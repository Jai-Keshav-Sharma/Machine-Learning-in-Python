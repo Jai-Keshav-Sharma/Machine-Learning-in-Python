{
  "nbformat": 4,
  "nbformat_minor": 0,
  "metadata": {
    "colab": {
      "provenance": []
    },
    "kernelspec": {
      "name": "python3",
      "display_name": "Python 3"
    },
    "language_info": {
      "name": "python"
    }
  },
  "cells": [
    {
      "cell_type": "code",
      "execution_count": 1,
      "metadata": {
        "id": "T-1502b2h3Zz"
      },
      "outputs": [],
      "source": [
        "import pickle\n",
        "import numpy as np"
      ]
    },
    {
      "cell_type": "code",
      "source": [
        "# loading pre-trained objects\n",
        "ohe_sex = pickle.load(open('ohe_sex.pkl', 'rb'))\n",
        "ohe_embarked = pickle.load(open('ohe_embarked.pkl', 'rb'))\n",
        "clf = pickle.load(open('clf.pkl', 'rb'))\n"
      ],
      "metadata": {
        "id": "vzLo8J3Ih7YD"
      },
      "execution_count": 2,
      "outputs": []
    },
    {
      "cell_type": "code",
      "source": [
        "# Assume User Input\n",
        "# PClass/Sex/Age/SibSp/Parch/Fare/Embarked\n",
        "test_input = np.array([3, 'male', 35.0, 0, 0, 8.0500, 'S'], dtype=object).reshape(1, 7)"
      ],
      "metadata": {
        "id": "hxgaexg5inaA"
      },
      "execution_count": 3,
      "outputs": []
    },
    {
      "cell_type": "code",
      "source": [
        "test_input"
      ],
      "metadata": {
        "colab": {
          "base_uri": "https://localhost:8080/"
        },
        "id": "vrYlTWYGiz29",
        "outputId": "5f140d6b-48e5-4f18-ef4a-dbd0f90f307d"
      },
      "execution_count": 4,
      "outputs": [
        {
          "output_type": "execute_result",
          "data": {
            "text/plain": [
              "array([[3, 'male', 35.0, 0, 0, 8.05, 'S']], dtype=object)"
            ]
          },
          "metadata": {},
          "execution_count": 4
        }
      ]
    },
    {
      "cell_type": "code",
      "source": [
        "# OneHotEncoding input sex\n",
        "test_input_sex = ohe_sex.transform(test_input[:, 1].reshape(1, 1))"
      ],
      "metadata": {
        "colab": {
          "base_uri": "https://localhost:8080/"
        },
        "id": "jdlPc-31i1fr",
        "outputId": "8bfb2654-f7c8-4a94-829a-3861d6814af3"
      },
      "execution_count": 5,
      "outputs": [
        {
          "output_type": "stream",
          "name": "stderr",
          "text": [
            "/usr/local/lib/python3.11/dist-packages/sklearn/utils/validation.py:2739: UserWarning: X does not have valid feature names, but OneHotEncoder was fitted with feature names\n",
            "  warnings.warn(\n"
          ]
        }
      ]
    },
    {
      "cell_type": "code",
      "source": [
        "test_input_sex"
      ],
      "metadata": {
        "colab": {
          "base_uri": "https://localhost:8080/"
        },
        "id": "CHNI0cApjEi6",
        "outputId": "1c2bfdd6-ce27-4a46-de9f-af7583dd988b"
      },
      "execution_count": 6,
      "outputs": [
        {
          "output_type": "execute_result",
          "data": {
            "text/plain": [
              "array([[0., 1.]])"
            ]
          },
          "metadata": {},
          "execution_count": 6
        }
      ]
    },
    {
      "cell_type": "code",
      "source": [
        "# OneHotEncoding input embarked\n",
        "test_input_embarked = ohe_embarked.transform(test_input[:, -1].reshape(1, 1))"
      ],
      "metadata": {
        "id": "_7YqUgJLjOKv"
      },
      "execution_count": 7,
      "outputs": []
    },
    {
      "cell_type": "code",
      "source": [
        "test_input_embarked"
      ],
      "metadata": {
        "colab": {
          "base_uri": "https://localhost:8080/"
        },
        "id": "fp8-f3twj33B",
        "outputId": "3ddf93d7-a3ce-416f-b504-99b62233d1c4"
      },
      "execution_count": 8,
      "outputs": [
        {
          "output_type": "execute_result",
          "data": {
            "text/plain": [
              "array([[0., 0., 1.]])"
            ]
          },
          "metadata": {},
          "execution_count": 8
        }
      ]
    },
    {
      "cell_type": "code",
      "source": [
        "# combining all the columns\n",
        "test_input_transformed = np.concatenate((test_input[:, [0, 2, 3, 4, 5]], test_input_sex, test_input_embarked), axis=1)"
      ],
      "metadata": {
        "id": "DvmkU6PSj5og"
      },
      "execution_count": 9,
      "outputs": []
    },
    {
      "cell_type": "code",
      "source": [
        "test_input_transformed.shape"
      ],
      "metadata": {
        "colab": {
          "base_uri": "https://localhost:8080/"
        },
        "id": "nEfHzj2ZkwIc",
        "outputId": "f07e4c71-bc14-4cf8-c015-24c392b009fb"
      },
      "execution_count": 10,
      "outputs": [
        {
          "output_type": "execute_result",
          "data": {
            "text/plain": [
              "(1, 10)"
            ]
          },
          "metadata": {},
          "execution_count": 10
        }
      ]
    },
    {
      "cell_type": "code",
      "source": [
        "# making prediction\n",
        "clf.predict(test_input_transformed)"
      ],
      "metadata": {
        "colab": {
          "base_uri": "https://localhost:8080/"
        },
        "id": "NuX8HqndlHes",
        "outputId": "aa41fc1f-6bd7-46d8-a027-7fd1a9971ea0"
      },
      "execution_count": 11,
      "outputs": [
        {
          "output_type": "execute_result",
          "data": {
            "text/plain": [
              "array([0])"
            ]
          },
          "metadata": {},
          "execution_count": 11
        }
      ]
    }
  ]
}