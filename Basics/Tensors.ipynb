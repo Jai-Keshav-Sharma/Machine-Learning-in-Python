{
  "nbformat": 4,
  "nbformat_minor": 0,
  "metadata": {
    "colab": {
      "provenance": []
    },
    "kernelspec": {
      "name": "python3",
      "display_name": "Python 3"
    },
    "language_info": {
      "name": "python"
    }
  },
  "cells": [
    {
      "cell_type": "code",
      "execution_count": null,
      "metadata": {
        "id": "kC9uCulvhVFk"
      },
      "outputs": [],
      "source": [
        "import numpy as np"
      ]
    },
    {
      "cell_type": "markdown",
      "source": [
        "#### 0D **tensor**"
      ],
      "metadata": {
        "id": "r7mkRLNxpSsr"
      }
    },
    {
      "cell_type": "code",
      "source": [
        "a = np.array(4)"
      ],
      "metadata": {
        "id": "n_eDUo26pEhc"
      },
      "execution_count": null,
      "outputs": []
    },
    {
      "cell_type": "code",
      "source": [
        "np.ndim(a)"
      ],
      "metadata": {
        "colab": {
          "base_uri": "https://localhost:8080/"
        },
        "id": "s1OND1WfpMlz",
        "outputId": "244c875a-7e24-49c0-fd18-0702e17a5e3d"
      },
      "execution_count": null,
      "outputs": [
        {
          "output_type": "execute_result",
          "data": {
            "text/plain": [
              "0"
            ]
          },
          "metadata": {},
          "execution_count": 3
        }
      ]
    },
    {
      "cell_type": "markdown",
      "source": [
        "#### 1D tensor"
      ],
      "metadata": {
        "id": "n2Bxtb3KqCTU"
      }
    },
    {
      "cell_type": "code",
      "source": [
        "b = np.array([1, 2, 3, 4])\n",
        "b.ndim"
      ],
      "metadata": {
        "colab": {
          "base_uri": "https://localhost:8080/"
        },
        "id": "OSADYkTGp82s",
        "outputId": "ee5a6d89-f3dc-4390-e77a-b8c318163e8e"
      },
      "execution_count": null,
      "outputs": [
        {
          "output_type": "execute_result",
          "data": {
            "text/plain": [
              "1"
            ]
          },
          "metadata": {},
          "execution_count": 6
        }
      ]
    },
    {
      "cell_type": "markdown",
      "source": [
        "#### 2D tensor"
      ],
      "metadata": {
        "id": "ZaDatob5qXNE"
      }
    },
    {
      "cell_type": "code",
      "source": [
        "c = np.array([[1, 2, 3], [4, 5, 6], [7, 8, 9]])\n",
        "c.ndim"
      ],
      "metadata": {
        "colab": {
          "base_uri": "https://localhost:8080/"
        },
        "id": "NY2urBUXq_bg",
        "outputId": "369e4d21-a69c-40d3-e3f3-4ee858782ef2"
      },
      "execution_count": null,
      "outputs": [
        {
          "output_type": "execute_result",
          "data": {
            "text/plain": [
              "2"
            ]
          },
          "metadata": {},
          "execution_count": 7
        }
      ]
    },
    {
      "cell_type": "code",
      "source": [],
      "metadata": {
        "id": "h39-53aErZH_"
      },
      "execution_count": null,
      "outputs": []
    }
  ]
}