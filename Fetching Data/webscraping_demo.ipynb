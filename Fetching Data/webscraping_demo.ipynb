{
  "nbformat": 4,
  "nbformat_minor": 0,
  "metadata": {
    "colab": {
      "provenance": []
    },
    "kernelspec": {
      "name": "python3",
      "display_name": "Python 3"
    },
    "language_info": {
      "name": "python"
    }
  },
  "cells": [
    {
      "cell_type": "markdown",
      "source": [
        "# Web Scraping\n",
        "Web scraping is the process of extracting data from websites. It involves sending HTTP requests to a website's server, retrieving the HTML content, and then parsing it to extract useful information like text, links, images, tables, etc.\n",
        "\n",
        "## How it works?\n",
        "1. ***Send Request*** – Use an HTTP library (like requests in Python) to send a GET or POST request to a webpage.\n",
        "\n",
        "2. ***Receive Response*** – The server responds with HTML, JSON, or other data formats.\n",
        "\n",
        "3. ***Parse Data***– Use a parser (like BeautifulSoup or lxml) to analyze and extract specific elements (like `div`, `a`, etc).\n",
        "\n",
        "4. ***Store or Process*** – Save or use the extracted data as needed (e.g., store in a CSV, database, or use it for analysis)."
      ],
      "metadata": {
        "id": "wVNFc6uTnyH7"
      }
    },
    {
      "cell_type": "markdown",
      "source": [
        "## How to Fool Servers into Thinking You're a Browser\n",
        "\n",
        "**Set a Realistic User-Agent**:\n",
        "    Browsers send a User-Agent header that identifies the type of browser and OS.\n",
        "\n"
      ],
      "metadata": {
        "id": "4UbmEP2boOcl"
      }
    },
    {
      "cell_type": "markdown",
      "source": [
        "### If response code is 403, fool the website:\n",
        "headers={'User-Agent':'Mozilla/5.0 (Windows NT 6.3; Win 64 ; x64) Apple WeKit /537.36(KHTML , like Gecko) Chrome/80.0.3987.162 Safari/537.36'} -requests.get('url',headers=headers).text"
      ],
      "metadata": {
        "id": "3-y419d4oogR"
      }
    },
    {
      "cell_type": "code",
      "execution_count": null,
      "metadata": {
        "id": "x_Pb1tF1m0RK"
      },
      "outputs": [],
      "source": [
        "import pandas as pd\n",
        "import requests\n",
        "from bs4 import BeautifulSoup"
      ]
    },
    {
      "cell_type": "code",
      "source": [
        "headers = {\n",
        "    'User-Agent': 'Mozilla/5.0 (Windows NT 6.3; Win64; x64) AppleWebKit/537.36 (KHTML, like Gecko) Chrome/80.0.3987.162 Safari/537.36'\n",
        "}\n",
        "\n",
        "requests.get('https://www.ambitionbox.com/list-of-companies?page=1', headers=headers).text"
      ],
      "metadata": {
        "id": "hwfZPqHpnAXM"
      },
      "execution_count": null,
      "outputs": []
    },
    {
      "cell_type": "code",
      "source": [],
      "metadata": {
        "id": "s5pwTUe_pCfP"
      },
      "execution_count": null,
      "outputs": []
    }
  ]
}